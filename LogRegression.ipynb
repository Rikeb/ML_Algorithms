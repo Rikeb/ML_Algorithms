{
 "cells": [
  {
   "cell_type": "code",
   "execution_count": 2,
   "metadata": {},
   "outputs": [],
   "source": [
    "import numpy as np\n",
    "import random\n",
    "import pdb\n",
    "import matplotlib.pyplot as plt"
   ]
  },
  {
   "cell_type": "code",
   "execution_count": 88,
   "metadata": {},
   "outputs": [],
   "source": [
    "class LogRegression(object):\n",
    "    \n",
    "    # Initial setup \n",
    "    \n",
    "    def __init__(self, weight_size): \n",
    "       # pass\n",
    "        self.weight_initializer(weight_size) \n",
    "         \n",
    "    # Log regrssion model development\n",
    "    \n",
    "    def activation(self, x_train):\n",
    "        \n",
    "        # Feedforward propogation \n",
    "        # Nonlinear neurons\n",
    "        \n",
    "    #    ones = np.zeros(x.shape[0],1)\n",
    "        \n",
    "      #  x = np.hstack((ones, x))\n",
    "      #  y = np.dot(x, w)\n",
    "        x = x_train\n",
    "      #  a = [sigmoid(np.dot(x, w) + b) for w, b in zip(self.weights, self.biases)]\n",
    "        a = sigmoid(np.dot(x, self.weights) + self.biases)\n",
    "        return a\n",
    "    \n",
    "    # Fitting model -  parameter learning\n",
    "    \n",
    "    def weight_initializer(self, weight_size):\n",
    "        \"\"\"Initialize the weights using a Gaussian distribution with mean 0\n",
    "        and standard deviation 1.  Initialize the biases using a\n",
    "        Gaussian distribution with mean 0 and standard deviation 1.\"\"\"\n",
    "        \n",
    "        self.weights = np.random.randn(weight_size + 1, 1) # (N+1 x 1)\n",
    "       # self.weights = np.zeros(1 + x_train.shape[1])\n",
    "        self.weights = self.weights[1:]\n",
    "        self.biases  = self.weights[0]\n",
    "        \n",
    "    \n",
    "    def SGD(self, epochs, alpha, lmbda, x_train, x_test, y_train, y_test, batch = None, batch_size = None, \n",
    "            monitor_test_cost = False,\n",
    "            monitor_training_cost = False):\n",
    "        \n",
    "        n_train = x_train.shape[0]\n",
    "        test_cost, training_cost = [], []\n",
    "        \n",
    "     #   self.weights = np.zeros((x_train.shape[1]+1, 1))\n",
    "     #   self.weights = self.weights[1:]\n",
    "     #   self.biases  = self.weights[0]\n",
    "        \n",
    "        for j in range(epochs):\n",
    "            random.shuffle(x_train)  # cropping the x_train data to 200 samples\n",
    "            random.shuffle(y_train)\n",
    "            if batch == 'mini_batch':\n",
    "                    x_batches = [x_train[k : k + batch_size] for k in range(0, n_train, batch_size)]\n",
    "                    y_batches = [y_train[k : k + batch_size] for k in range(0, n_train, batch_size)]\n",
    "                    for mini_batch_x_train in x_batches:\n",
    "                        for mini_batch_y_train in y_batches:\n",
    "                           # print(len(mini_batch_y_train)) #\n",
    "                            # stochastic gradient descent\n",
    "                            self.param_update(mini_batch_x_train, mini_batch_y_train, alpha, lmbda, n_train)\n",
    "            elif batch  == 'batch':\n",
    "                #print(\"training/test  {}/{}\".format(y_train.shape, self.activation(x_train).shape))\n",
    "                self.param_update(x_train, y_train, alpha, lmbda, n_train) # gradient descent\n",
    "\n",
    "            \n",
    "           # print(\"Epoch {} complete\".format(j))   \n",
    "           #***\n",
    "         \n",
    "            if monitor_test_cost:\n",
    "                cost = self.cost(x_test, y_test, lmbda)\n",
    "                test_cost.append(cost)\n",
    "                if j % 50 == 0:\n",
    "                    print(\"Epoch {}: Cost on test data: {}\".format(j, cost))\n",
    "            if monitor_training_cost:\n",
    "                #print(\"training/test  {}/{}\".format(x_train.shape, y_train.shape))   \n",
    "                \n",
    "                cost = self.cost(x_train, y_train, lmbda)\n",
    "                training_cost.append(cost)\n",
    "                if j % 50 == 0: \n",
    "                    print(\"Epoch {}: Cost on training data: {}\".format(j, cost))\n",
    "            \n",
    "         #   if test_data:\n",
    "         #       print(\"Epoch {} : {} / {}\".format(j, self.predict(test_data),n_test));\n",
    "         #   else:\n",
    "         #       print(\"Epoch {} complete\".format(j))\n",
    "           \n",
    "        return  test_cost, training_cost, self.weights, self.biases\n",
    "           \n",
    "            \n",
    "       \n",
    "    def param_update(self, x_train, y_train, alpha, lmbda, n):\n",
    "        \n",
    "        \"\"\"Update the network's weights and biases by applying\n",
    "        gradient descent learning\"\"\"\n",
    "                               \n",
    "        n_samples = x_train.shape[0] # batch or mini_batch sample size\n",
    "        \n",
    "        y_predict = self.activation(x_train)\n",
    "          \n",
    "        error = y_predict - y_train\n",
    "        #print(\"training/test  {}\".format(error.shape)\n",
    "        # weight and bias update\n",
    "        dw =  (1 / n_samples) * np.dot(x_train.T, error)\n",
    "        db =  (1 / n_samples) * np.sum(error)\n",
    "       \n",
    "        # memory allocation for nabla_w and nabla_b parameters\n",
    "        #   nabla_b = [np.zeros(b.shape) for b in self.biases]\n",
    "        #   nabla_w = [np.zeros(w.shape) for b in self.weights]              ]\n",
    "        \n",
    "        #********** WHY THIS SHIT DOES NOT WORK ???? FUCK IT! ******* \n",
    "        \n",
    "        #self.weights = [w - alpha * dw for w in self.weights]\n",
    "        #self.biases  = [b - alpha * db for b in self.biases]\n",
    "       #**********************************************************\n",
    "    \n",
    "       # dw = (1 / n_samples) * np.dot(x_train.T, (y_predict - y_train))\n",
    "       # db = (1 / n_samples) * np.sum(y_predict - y_train)\n",
    "\n",
    "        # Step 5: Update the parameters\n",
    "       # self.weights -= alpha * dw\n",
    "       # self.biases  -= self.biases - alpha * db\n",
    "        if n_samples < n:\n",
    "            self.weights -= (1 - alpha * (lmbda/n_samples)) * self.weights - alpha * dw\n",
    "            self.biases  -= self.biases - alpha * db\n",
    "        else:\n",
    "            self.weights -= (1 - alpha * (lmbda/n_samples)) * self.weights - (alpha/n) * dw\n",
    "            self.biases  -= self.biases - alpha * db\n",
    "    \n",
    "    \n",
    "        return self.weights, self.biases\n",
    "        \n",
    "    \n",
    "        # def backpropogate(self, x_train, y_train) \n",
    "    \n",
    "        # compute cost and cost derivative\n",
    "\n",
    " \n",
    "    def cost(self, x_train, y_train, lmbda):\n",
    "        \n",
    "        y_predict = self.activation(x_train) # y_predict\n",
    "        cost = (1/x_train.shape[0])*np.sum(np.nan_to_num(-y_train*np.log(y_predict)-(1-y_train)*np.log(1-y_predict))) \n",
    "        regularizer = 0.5*(lmbda/(x_train.shape[0])) * sum(np.linalg.norm(w)**2 for w in self.weights)\n",
    "        cost += regularizer \n",
    "        return cost\n",
    "      \n",
    "   \n",
    "    def predict(self, x):\n",
    "        \n",
    "        # Classify x as class 1 if activation > 0.5, else classify as class 0\n",
    "        y_predict = self.activation(x)\n",
    "        y_predicted_labels = np.where(y_predict >= 0.5, 1,0) \n",
    "        \n",
    "        return y_predicted_labels[:, newaxis]\n",
    "    \n",
    "    def predict_prob(self,x):\n",
    "        a = self.activation(x)\n",
    "        pred_prob = self.sigmoid(a)\n",
    "        return pred_prob\n",
    "    \n",
    "    \n",
    "def sigmoid(z):\n",
    "        \n",
    "    return 1/(1 + np.exp(-z))\n"
   ]
  },
  {
   "cell_type": "code",
   "execution_count": 92,
   "metadata": {},
   "outputs": [
    {
     "name": "stdout",
     "output_type": "stream",
     "text": [
      "Epoch 0: Cost on test data: 0.6825124823984583\n",
      "Epoch 0: Cost on training data: 0.714088338093634\n",
      "Epoch 50: Cost on test data: 1.0577229065141565\n",
      "Epoch 50: Cost on training data: 1.34755501111611\n"
     ]
    },
    {
     "data": {
      "image/png": "[encoded data removed]",
      "text/plain": [
       "<matplotlib.figure.Figure at 0x1e23782bcf8>"
      ]
     },
     "metadata": {},
     "output_type": "display_data"
    }
   ],
   "source": [
    "# Training the model\n",
    "x_train = np.random.randn(200,13)\n",
    "x_test = np.random.randn(200,13)\n",
    "y_train = np.random.randint(2, size = x_train.shape[0])[:, np.newaxis] \n",
    "y_test = np.random.randint(2, size = x_train.shape[0])[:, np.newaxis] \n",
    "epochs = 100\n",
    "alpha  = 1.5\n",
    "batch_size = 20\n",
    "lmbda = 10\n",
    "weight_size = x_train.shape[1]\n",
    "logreg = LogRegression(weight_size) # initialization\n",
    "\n",
    "\n",
    "test_cost, training_cost, weights, biases = logreg.SGD(epochs, alpha, lmbda, x_train, x_test,  y_train, y_test, batch = 'batch', \n",
    "                                    batch_size = batch_size,\n",
    "                                    monitor_test_cost = True, monitor_training_cost = True)\n",
    "fig = plt.figure(figsize=(8,6))\n",
    "ax = fig.add_subplot(111)\n",
    "ax.plot(np.arange(epochs), training_cost)\n",
    "#ax.plot(np.arange(epochs), test_cost)\n",
    "ax.set_title(\"Development of cost over training and test data\")\n",
    "ax.set_xlabel(\"Number of iterations\")\n",
    "ax.set_ylabel(\"Cost\")\n",
    "plt.show() "
   ]
  },
  {
   "cell_type": "code",
   "execution_count": 39,
   "metadata": {},
   "outputs": [
    {
     "name": "stdout",
     "output_type": "stream",
     "text": [
      "On branch master\n",
      "Changes not staged for commit:\n",
      "  (use \"git add <file>...\" to update what will be committed)\n",
      "  (use \"git checkout -- <file>...\" to discard changes in working directory)\n",
      "\n",
      "\tmodified:   LogRegression.ipynb\n",
      "\n",
      "Untracked files:\n",
      "  (use \"git add <file>...\" to include in what will be committed)\n",
      "\n",
      "\t.ipynb_checkpoints/\n",
      "\t.vscode/\n",
      "\tHeartDisease_Prognosis.ipynb\n",
      "\tHeart_Disease_Data.csv\n",
      "\tUntitled.ipynb\n",
      "\t__pycache__/\n",
      "\n",
      "no changes added to commit (use \"git add\" and/or \"git commit -a\")\n"
     ]
    }
   ],
   "source": [
    "!git add LogRegression.py\n",
    "!git status\n"
   ]
  },
  {
   "cell_type": "code",
   "execution_count": 41,
   "metadata": {},
   "outputs": [
    {
     "name": "stdout",
     "output_type": "stream",
     "text": [
      "On branch master\n",
      "Changes not staged for commit:\n",
      "\tmodified:   LogRegression.ipynb\n",
      "\n",
      "Untracked files:\n",
      "\t.ipynb_checkpoints/\n",
      "\t.vscode/\n",
      "\tHeartDisease_Prognosis.ipynb\n",
      "\tHeart_Disease_Data.csv\n",
      "\tUntitled.ipynb\n",
      "\t__pycache__/\n",
      "\n",
      "no changes added to commit\n"
     ]
    }
   ],
   "source": [
    "!git commit -m LogRegression.py\" this a simple Log regression\""
   ]
  },
  {
   "cell_type": "code",
   "execution_count": 34,
   "metadata": {},
   "outputs": [],
   "source": [
    "!git remote add origin https://github.com/Rikeb/heart_disease_prognosis.git"
   ]
  },
  {
   "cell_type": "code",
   "execution_count": 46,
   "metadata": {},
   "outputs": [
    {
     "name": "stdout",
     "output_type": "stream",
     "text": [
      "M\tLogRegression.ipynb\n"
     ]
    },
    {
     "name": "stderr",
     "output_type": "stream",
     "text": [
      "HEAD is now at fd63f58 LogRegression.py\n"
     ]
    }
   ],
   "source": [
    "!git checkout fd63f583f2be4c24ffb309470cf3cf20294511ca"
   ]
  },
  {
   "cell_type": "code",
   "execution_count": 85,
   "metadata": {},
   "outputs": [
    {
     "name": "stderr",
     "output_type": "stream",
     "text": [
      "fatal: A branch named 'feature_1' already exists.\n"
     ]
    }
   ],
   "source": [
    "!git checkout -b feature_1"
   ]
  },
  {
   "cell_type": "code",
   "execution_count": 86,
   "metadata": {},
   "outputs": [
    {
     "name": "stdout",
     "output_type": "stream",
     "text": [
      "On branch feature_1\n",
      "Changes not staged for commit:\n",
      "  (use \"git add <file>...\" to update what will be committed)\n",
      "  (use \"git checkout -- <file>...\" to discard changes in working directory)\n",
      "\n",
      "\tmodified:   LogRegression.ipynb\n",
      "\n",
      "Untracked files:\n",
      "  (use \"git add <file>...\" to include in what will be committed)\n",
      "\n",
      "\t.ipynb_checkpoints/\n",
      "\t.vscode/\n",
      "\tHeartDisease_Prognosis.ipynb\n",
      "\tHeart_Disease_Data.csv\n",
      "\tUntitled.ipynb\n",
      "\t__pycache__/\n",
      "\n",
      "no changes added to commit (use \"git add\" and/or \"git commit -a\")\n"
     ]
    }
   ],
   "source": [
    "!git status"
   ]
  }
 ],
 "metadata": {
  "kernelspec": {
   "display_name": "Python 3",
   "language": "python",
   "name": "python3"
  },
  "language_info": {
   "codemirror_mode": {
    "name": "ipython",
    "version": 3
   },
   "file_extension": ".py",
   "mimetype": "text/x-python",
   "name": "python",
   "nbconvert_exporter": "python",
   "pygments_lexer": "ipython3",
   "version": "3.6.4"
  }
 },
 "nbformat": 4,
 "nbformat_minor": 2
}
